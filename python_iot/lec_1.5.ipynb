{
 "cells": [
  {
   "cell_type": "markdown",
   "metadata": {},
   "source": [
    "# Работа с файлами"
   ]
  },
  {
   "cell_type": "markdown",
   "metadata": {},
   "source": [
    "## Типы файлов\n",
    "1. Текстовые - информация хранится в виде кодов привычных нам символов.\n",
    "2. Двоичные (бинарные) - информация хранится в виде последовательности байтов."
   ]
  },
  {
   "cell_type": "markdown",
   "metadata": {},
   "source": [
    "### Текстовые файлы\n",
    "Рассматриваем на примере кодировки ascii.\n",
    "Каждый симвод кодируется числом $\\in[0,255]$.\n",
    "![title](img/ascii.png)\n",
    "[Источник изображения](https://commons.wikimedia.org/wiki/File:Ascii_Table-nocolor.svg)\n",
    "\n",
    "### Бинарные файлы\n",
    "Вся информация представляется как последовательность байтов: **\\xc2\\x01\\x83\\xc0\\x01\\x0f\\xb6H\\xff\\x80:\\x00\\x88J\\xffu\\xee\\x8b\\xb3\\xa8\\x0b\\x00\\x00\\x85**\n",
    "\n",
    "Посмотрите типы [bytes и bytearray](https://pythonworld.ru/tipy-dannyx-v-python/bajty-bytes-i-bytearray.html).\n",
    "\n",
    "Один и тот же файл можно интрепретировать разными способами"
   ]
  },
  {
   "cell_type": "markdown",
   "metadata": {},
   "source": [
    "## Операции над файлами"
   ]
  },
  {
   "cell_type": "markdown",
   "metadata": {},
   "source": [
    "Последовательность действий:\n",
    "1. Открыть файл.\n",
    "2. Прочитать/записать данные.\n",
    "3. Закрыть файл."
   ]
  },
  {
   "cell_type": "markdown",
   "metadata": {},
   "source": [
    "### Открытие / Закрытие"
   ]
  },
  {
   "cell_type": "markdown",
   "metadata": {},
   "source": [
    "Функция открытия файла (все параметры можно посмотреть [тут](https://docs.python.org/3/library/functions.html#open)):\n",
    "\n",
    "`open(file, mode='r', encoding=None)`\n",
    "\n",
    "* `file` - имя файла / дискриптор файла.\n",
    "* `mode` - режим открытия.\n",
    "* `encoding` - кодировка (например `\"utf-8\"`)."
   ]
  },
  {
   "cell_type": "markdown",
   "metadata": {},
   "source": [
    "Значение `mode`:\n",
    "\n",
    "| Режим\t | Обозначение |\n",
    "| --- | --- |\n",
    "| 'r' | Чтение. Указатель файла в начале. |\n",
    "| 'w' | Запись. Файл будет перезаписан/создан. Указатель файла в начале. |\n",
    "| 'x' | Запись, для несуществующего файла, в противном случае исключение. Указатель файла в начале. |\n",
    "| 'a' | Запись. Файл будет дописан/создан. Указатель файла в конце. |\n",
    "| 'b' | Открытие двоичного файла. |\n",
    "| 't' | Открытие текстового файла (по умолчанию). |\n",
    "| '+' | Чтение и запись. |\n",
    "\n",
    "Режимы могут комбинироваться: \n",
    "* r, rt - открыть текстовый файл на чтение, указатель в начале файла;\n",
    "* r+, r+t - открыть текстовый файл на чтение/запись, указатель в начале файла; \n",
    "* w, wt - создать/перезаписать текстовый файл для записи, указатель в начале файла;  \n",
    "* w+, w+t - создать/перезаписать текстовый файл для чтения/записи, указатель в начале файла;  \n",
    "...\n",
    "* rb - открыть бинарный файл на чтение, указатель в начале файла;\n",
    "* r+b - открыть бинарный файл на чтение/запись, указатель в начале файла;\n",
    "* wb - создать/перезаписать бинарный файл для записи, указатель в начале файла; \n",
    "* w+b - создать/перезаписать бинарный файл для чтения/записи, указатель в начале файла;"
   ]
  },
  {
   "cell_type": "markdown",
   "metadata": {},
   "source": [
    "Путь к файлу может быть:\n",
    "* полным (`\"/home/user/new/text.txt\"`, `\"C:\\Users\\user\\new\\text.txt\"`)\n",
    "* относительным (`\"new/text.txt\"`, `\"new\\text.txt\"`, `\"text.txt\"`)\n",
    "\n",
    "Т.к. путь к файлу может содержать пробелы, а в Windows для разделения названия каталогов используется экранирующий символ `\"\\\"`, то надо быть акуратным при указании пути.\n",
    "\n",
    "Продемонстрируем на следующем примере:"
   ]
  },
  {
   "cell_type": "code",
   "execution_count": null,
   "metadata": {},
   "outputs": [],
   "source": [
    "print(\"C:\\Users\\user\\new\\text.txt\")"
   ]
  },
  {
   "cell_type": "markdown",
   "metadata": {},
   "source": [
    "При таком подходе необходимо экранировать `\"\\\"`"
   ]
  },
  {
   "cell_type": "code",
   "execution_count": null,
   "metadata": {},
   "outputs": [],
   "source": [
    "print(\"C:\\\\Users\\\\user\\\\new\\\\text.txt\")"
   ]
  },
  {
   "cell_type": "markdown",
   "metadata": {},
   "source": [
    "А еще проще использовать \"сырые\" строки"
   ]
  },
  {
   "cell_type": "code",
   "execution_count": null,
   "metadata": {},
   "outputs": [],
   "source": [
    "print(r\"C:\\Users\\user\\new\\text.txt\")"
   ]
  },
  {
   "cell_type": "markdown",
   "metadata": {},
   "source": [
    "#### Откроем файл по относительному пути"
   ]
  },
  {
   "cell_type": "code",
   "execution_count": null,
   "metadata": {},
   "outputs": [],
   "source": [
    "f = open('data/text.txt', 'r+t')\n",
    "f.close()"
   ]
  },
  {
   "cell_type": "markdown",
   "metadata": {},
   "source": [
    "Не забывайте закрывать файл!!!"
   ]
  },
  {
   "cell_type": "markdown",
   "metadata": {},
   "source": [
    "При открытии файлов могут возникать исключения"
   ]
  },
  {
   "cell_type": "code",
   "execution_count": null,
   "metadata": {},
   "outputs": [],
   "source": [
    "f = open('data/my.txt', 'r')"
   ]
  },
  {
   "cell_type": "markdown",
   "metadata": {},
   "source": [
    "Для безопасного открытия используют менеджеры контекста и отлавливание исключений"
   ]
  },
  {
   "cell_type": "code",
   "execution_count": null,
   "metadata": {},
   "outputs": [],
   "source": [
    "with open('data/text.txt', 'r') as f:\n",
    "    # Действия над содержимым файла\n",
    "    pass"
   ]
  },
  {
   "cell_type": "code",
   "execution_count": null,
   "metadata": {},
   "outputs": [],
   "source": [
    "try:\n",
    "    with open('data/text.txt', 'r') as f:\n",
    "        # Действия над содержимым файла\n",
    "        pass\n",
    "except IOError:\n",
    "    print('IOError')"
   ]
  },
  {
   "cell_type": "markdown",
   "metadata": {},
   "source": [
    "Менеджер контекста самостоятельно закрывает файл. "
   ]
  },
  {
   "cell_type": "markdown",
   "metadata": {},
   "source": [
    "### Работа с содержимым\n"
   ]
  },
  {
   "cell_type": "markdown",
   "metadata": {},
   "source": [
    "#### Метод read(size=-1)\n",
    "Читает size байт, если не указано, то весь файл."
   ]
  },
  {
   "cell_type": "code",
   "execution_count": null,
   "metadata": {},
   "outputs": [],
   "source": [
    "try:\n",
    "    with open('data/text.txt', 'r') as f:\n",
    "        data = f.read()\n",
    "        print(\"Type: \", type(data), \"\\n\\n\", \"Len: \", len(data), \"\\n\\n\", data, sep=\"\")\n",
    "except IOError:\n",
    "    print('IOError')"
   ]
  },
  {
   "cell_type": "code",
   "execution_count": null,
   "metadata": {
    "scrolled": true
   },
   "outputs": [],
   "source": [
    "try:\n",
    "    with open('data/text.txt', 'r') as f:\n",
    "        data = f.read(100)\n",
    "        print(\"Type: \", type(data), \"\\n\", \"Len: \", len(data), \"\\n\\n\", data, \"\\n\", sep=\"\")\n",
    "        \n",
    "        data = f.read(100)\n",
    "        print(\"Type: \", type(data), \"\\n\", \"Len: \", len(data), \"\\n\\n\", data, \"\\n\", sep=\"\")\n",
    "except IOError:\n",
    "    print('IOError')"
   ]
  },
  {
   "cell_type": "code",
   "execution_count": null,
   "metadata": {},
   "outputs": [],
   "source": [
    "try:\n",
    "    with open('data/data.bin', 'br') as f:\n",
    "        data = f.read()\n",
    "        print(\"Type: \", type(data), \"\\n\", \"Len: \", len(data), \"\\n\\n\", data, \"\\n\", sep=\"\")\n",
    "except IOError:\n",
    "    print('IOError')"
   ]
  },
  {
   "cell_type": "markdown",
   "metadata": {},
   "source": [
    "#### Метод readline(size=-1)\n",
    "Читает size байт в строке, если не указано, то всю строку.\n",
    "\n",
    "Некорректно применять к бинарным файлам."
   ]
  },
  {
   "cell_type": "code",
   "execution_count": null,
   "metadata": {},
   "outputs": [],
   "source": [
    "try:\n",
    "    with open('data/text.txt', 'r') as f:\n",
    "        data = f.readline()\n",
    "        print(\"Type: \", type(data), \"\\n\", \"Len: \", len(data), \"\\n\\n\", data, \"\\n\", sep=\"\")\n",
    "except IOError:\n",
    "    print('IOError')"
   ]
  },
  {
   "cell_type": "code",
   "execution_count": null,
   "metadata": {},
   "outputs": [],
   "source": [
    "try:\n",
    "    with open('data/text.txt', 'r') as f:\n",
    "        data = f.readline(15)\n",
    "        print(\"Type: \", type(data), \"\\n\", \"Len: \", len(data), \"\\n\\n\", data, \"\\n\", sep=\"\")\n",
    "        data = f.readline(10)\n",
    "        print(\"Type: \", type(data), \"\\n\", \"Len: \", len(data), \"\\n\\n\", data, \"\\n\", sep=\"\")\n",
    "except IOError:\n",
    "    print('IOError')"
   ]
  },
  {
   "cell_type": "code",
   "execution_count": null,
   "metadata": {},
   "outputs": [],
   "source": [
    "try:\n",
    "    with open('data/text.txt', 'r') as f:\n",
    "        while True:\n",
    "            data = f.readline(10)\n",
    "            if data:\n",
    "                print(data)\n",
    "            else:\n",
    "                break                \n",
    "except IOError:\n",
    "    print('IOError')"
   ]
  },
  {
   "cell_type": "markdown",
   "metadata": {},
   "source": [
    "#### Метод readlines()\n",
    "Считывает все строки и возвращает их в виде списка.\n",
    "\n",
    "Некорректно применять к бинарным файлам."
   ]
  },
  {
   "cell_type": "code",
   "execution_count": 1,
   "metadata": {},
   "outputs": [
    {
     "name": "stdout",
     "output_type": "stream",
     "text": [
      "IOError\n"
     ]
    }
   ],
   "source": [
    "try:\n",
    "    with open('data/text.txt', 'r') as f:\n",
    "        data = f.readlines()\n",
    "        print(\"Type: \", type(data), \"\\n\\n\", \"Len: \", len(data), \"\\n\\n\", data, sep=\"\")\n",
    "except IOError:\n",
    "    print('IOError')"
   ]
  },
  {
   "cell_type": "code",
   "execution_count": 2,
   "metadata": {},
   "outputs": [
    {
     "name": "stdout",
     "output_type": "stream",
     "text": [
      "IOError\n"
     ]
    }
   ],
   "source": [
    "try:\n",
    "    with open('data/text.txt', 'r') as f:\n",
    "        data = f.readlines()\n",
    "        for line in data:\n",
    "            print(line[:10])\n",
    "except IOError:\n",
    "    print('IOError')"
   ]
  },
  {
   "cell_type": "markdown",
   "metadata": {},
   "source": [
    "#### Метод write(data)\n",
    "Пишет данные в файл. Возвращает количество записанных байтов."
   ]
  },
  {
   "cell_type": "code",
   "execution_count": null,
   "metadata": {},
   "outputs": [],
   "source": [
    "try:\n",
    "    with open('test.txt', 'w') as f:\n",
    "        print(f.write(\"It's a test.\"))\n",
    "except IOError:\n",
    "    print('IOError')"
   ]
  },
  {
   "cell_type": "code",
   "execution_count": null,
   "metadata": {},
   "outputs": [],
   "source": [
    "%pycat test.txt"
   ]
  },
  {
   "cell_type": "code",
   "execution_count": 1,
   "metadata": {},
   "outputs": [
    {
     "name": "stdout",
     "output_type": "stream",
     "text": [
      "5\n"
     ]
    }
   ],
   "source": [
    "try:\n",
    "    with open('test.b', 'wb') as f:\n",
    "        print(f.write(bytes([97, 98, 99, 100, 101])))\n",
    "except IOError:\n",
    "    print('IOError')"
   ]
  },
  {
   "cell_type": "code",
   "execution_count": null,
   "metadata": {},
   "outputs": [],
   "source": [
    "%pycat test.b"
   ]
  },
  {
   "cell_type": "markdown",
   "metadata": {},
   "source": [
    "#### Метод writelines(data)\n",
    "Пишет строки в файл. Перенос строки автоматически не добавляется.\n",
    "\n",
    "Некорректно применять к бинарным файлам."
   ]
  },
  {
   "cell_type": "code",
   "execution_count": null,
   "metadata": {},
   "outputs": [],
   "source": [
    "try:\n",
    "    with open('test.txt', 'w') as f:\n",
    "        f.writelines([\"One\\n\", \"Two\", \"Three\"])\n",
    "except IOError:\n",
    "    print('IOError')"
   ]
  },
  {
   "cell_type": "code",
   "execution_count": null,
   "metadata": {},
   "outputs": [],
   "source": [
    "%pycat test.txt"
   ]
  },
  {
   "cell_type": "markdown",
   "metadata": {},
   "source": [
    "#### Метод flush()\n",
    "Форсирование буфферизации."
   ]
  },
  {
   "cell_type": "markdown",
   "metadata": {},
   "source": [
    "#### Метод seek(offset, from_what=0)\n",
    "Делает смещение на offset байтов, относительно позиции from_what (0 — начало файла; 1 — текущая позиция)."
   ]
  },
  {
   "cell_type": "markdown",
   "metadata": {},
   "source": [
    "#### Метод tell()\n",
    "Возвращает текущую позицию указателя в файле"
   ]
  },
  {
   "cell_type": "markdown",
   "metadata": {},
   "source": [
    "### Пример"
   ]
  },
  {
   "cell_type": "markdown",
   "metadata": {},
   "source": [
    "В файле хранится статистика по пассажирам Титаника.\n",
    "\n",
    "Исходные данные были взяты [тут](https://www.kaggle.com/c/titanic/data).\n",
    "\n",
    "Перепишем в новый файл все записи с указанием кают. Остальные записи будем пропускать."
   ]
  },
  {
   "cell_type": "code",
   "execution_count": null,
   "metadata": {},
   "outputs": [],
   "source": [
    "try:\n",
    "    with open('data/titanic.csv', 'r') as f_input, open('result.csv', 'w') as f_output:\n",
    "        header = f_input.readline()\n",
    "        f_output.write(header)\n",
    "        data = f_input.readlines()\n",
    "        for line in data:        \n",
    "            cabin = line[line.rfind(\",\") + 1:-1]\n",
    "            if cabin:\n",
    "                f_output.write(line)\n",
    "except IOError:\n",
    "    print('IOError')"
   ]
  }
 ],
 "metadata": {
  "kernelspec": {
   "display_name": "Python 3",
   "language": "python",
   "name": "python3"
  },
  "language_info": {
   "codemirror_mode": {
    "name": "ipython",
    "version": 3
   },
   "file_extension": ".py",
   "mimetype": "text/x-python",
   "name": "python",
   "nbconvert_exporter": "python",
   "pygments_lexer": "ipython3",
   "version": "3.11.5"
  }
 },
 "nbformat": 4,
 "nbformat_minor": 2
}
