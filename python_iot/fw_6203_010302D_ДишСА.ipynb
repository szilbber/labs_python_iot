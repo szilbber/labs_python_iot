{
 "cells": [
  {
   "cell_type": "markdown",
   "metadata": {},
   "source": [
    "# Финальная работа\n",
    "\n",
    "**Требования:**\n",
    "* Python >= 3.X\n",
    "\n",
    "Финальную работу необходимо выполнять в данном шаблоне. Результатом работы будет являться файл (с измененным именем), который необходимо выложить в Moodle.\n",
    "\n",
    "**Важно!!!** Имя файлу задавайте по следующему шаблону **fw_Группа_ФамилияИО.ipynb**. Например: если Вас зовут Иванов Иван Иванович, и Вы обучаетесь в группе 6207_010302D, то имя файла будет выглядеть так **fw_6207_010302D_ИвановИИ.ipynb**."
   ]
  },
  {
   "cell_type": "markdown",
   "metadata": {},
   "source": [
    "### Задача\n",
    "\n",
    "Реализовать тело функции с именем `get_image`, которая по заданному числу `k` генерирует двумерную матрицу (бинарное растровое изображение) размером 17x106 согласно формуле Таппера (можно почитать по [ссылке](https://ru.wikipedia.org/wiki/%D0%A4%D0%BE%D1%80%D0%BC%D1%83%D0%BB%D0%B0_%D0%A2%D0%B0%D0%BF%D0%BF%D0%B5%D1%80%D0%B0)). Т.е. необходимо построить график функции для точек (x, y) удовлетворяющих следующему неравенству:\n",
    "\n",
    "$${1\\over 2} < \\left\\lfloor \\mathrm{mod}\\left(\\left\\lfloor {y \\over 17} \\right\\rfloor 2^{-17 \\lfloor x \\rfloor - \\mathrm{mod}(\\lfloor y\\rfloor, 17)},2\\right)\\right\\rfloor,$$\n",
    "где $\\lfloor \\cdot \\rfloor$ обозначает целую часть, а $mod()$ — оператор остатка от деления.\n",
    "\n",
    "Исходное число `k` хранится в виде строки в переменной `data`.\n",
    "\n",
    "Дополнительные функции добавлять нельзя! Вся реализация должна находиться в теле `get_image`!"
   ]
  },
  {
   "cell_type": "code",
   "execution_count": 154,
   "metadata": {},
   "outputs": [],
   "source": [
    "# Текст в данной ячейке изменять запрещено, просто выполните её\n",
    "import matplotlib.pyplot as plt\n",
    "import numpy as np\n",
    "\n",
    "height = 17\n",
    "width = 106\n",
    "\n",
    "data = '647 557 353 815 682 901 011 562 510 464 695 048 907 460 178 101 688 183 973 268 773 341 446 930 001 990 561 491 575 420 118 807 603 765 598 551 015 466 205 506 207 903 425 005 525 528 151 396 857 276 618 836 722 449 824 326 971 870 120 279 002 024 140 186 889 934 047 472 863 607 230 013 149 330 857 266 136 045 608 666 634 010 278 555 088 623 358 059 707 853 960 080 959 835 682 517 353 409 884 783 738 138 961 137 477 949 017 258 903 945 492 070 959 337 001 425 612 196 415 378 370 575 573 619 321 209 404 899 899 133 507 909 532 101 954 764 8'"
   ]
  },
  {
   "cell_type": "code",
   "execution_count": 155,
   "metadata": {},
   "outputs": [],
   "source": [
    "def get_image(data):\n",
    "    # Функция принимает в качестве параметра data строковое представление числа k\n",
    "    # вставить код сюда\n",
    "    k = int(''.join(data.split()))\n",
    "    def tapper(x,y):\n",
    "        return ((y//height)//(1 << (height*x+(y%height))))%2\n",
    "    lists = [[] for y in range(height)]\n",
    "    for y in range(height):\n",
    "        for x in range(width):\n",
    "            lists[height-y-1].append(tapper(x, y+k))\n",
    "    return lists"
   ]
  },
  {
   "cell_type": "code",
   "execution_count": 156,
   "metadata": {},
   "outputs": [
    {
     "data": {
      "text/plain": [
       "<matplotlib.image.AxesImage at 0x26828d21f50>"
      ]
     },
     "execution_count": 156,
     "metadata": {},
     "output_type": "execute_result"
    },
    {
     "data": {
      "image/png": "[encoded data removed]",
      "text/plain": [
       "<Figure size 640x480 with 1 Axes>"
      ]
     },
     "metadata": {},
     "output_type": "display_data"
    }
   ],
   "source": [
    "# Текст в данной ячейке изменять запрещено, просто выполните её\n",
    "plt.imshow(get_image(data))"
   ]
  }
 ],
 "metadata": {
  "kernelspec": {
   "display_name": "Python 3 (ipykernel)",
   "language": "python",
   "name": "python3"
  },
  "language_info": {
   "codemirror_mode": {
    "name": "ipython",
    "version": 3
   },
   "file_extension": ".py",
   "mimetype": "text/x-python",
   "name": "python",
   "nbconvert_exporter": "python",
   "pygments_lexer": "ipython3",
   "version": "3.11.5"
  }
 },
 "nbformat": 4,
 "nbformat_minor": 4
}
