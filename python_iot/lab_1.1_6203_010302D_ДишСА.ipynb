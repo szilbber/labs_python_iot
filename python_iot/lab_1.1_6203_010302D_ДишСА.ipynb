{
 "cells": [
  {
   "cell_type": "markdown",
   "metadata": {},
   "source": [
    "# Лабораторная работа №1\n",
    "\n",
    "**Требования:**\n",
    "* Python >= 3.X\n",
    "\n",
    "Лабораторную работу необходимо выполнять в данном шаблоне. Результатом работы будет являться файл (с измененным именем), который необходимо выложить в Moodle.\n",
    "\n",
    "**Важно!!!** Имя файлу задавайте по следующему шаблону **lab_1.1_Группа_ФамилияИО.ipynb**. Например: если Вас зовут Иванов Иван Иванович, и Вы обучаетесь в группе 6207_010302D, то имя файла будет выглядеть так **lab_1.1_6207_010302D_ИвановИИ.ipynb**.\n",
    "\n",
    "P.S. модулями (библиотеками) пользоваться запрещено!"
   ]
  },
  {
   "cell_type": "markdown",
   "metadata": {},
   "source": [
    "### Задача № 1\n",
    "\n",
    "Числа Фибоначчи - это такая последовательность, в которой первые два числа равны 0 и 1 соответствено, а каждый последующий член является суммой двух предыдущих членов.\n",
    "\n",
    "Начало последовательности выглядит следующим образом:\n",
    "\n",
    "| Индекс | Значение |\n",
    "| --- | --- |\n",
    "| 0 | 0 |\n",
    "| 1 | 1 |\n",
    "| 2 | 1 |\n",
    "| 3 | 2 |\n",
    "| 4 | 3 |\n",
    "| 5 | 5 |\n",
    "| 6 | 8 |\n",
    "| 7 | 13 |\n",
    "| 8 | 21 |\n",
    "| ... | ... |\n",
    "\n",
    "Более строго последовательность можно задать рекуррентным  соотношением:\n",
    "\n",
    "$$F_0 = 0,\\quad F_1 = 1,\\quad F_i = F_{i-1} + F_{i-2}.$$\n",
    "\n",
    "Напишите алгоритм генерации и вывода с n-го по k-й элементов данной числовой последовательности. Хранить элементы не надо, их необходимо только вывести (используйте `print(...)`).\n",
    "\n",
    "Пример вывода для `n = 2` и `k = 8`:\n",
    "\n",
    "`1`\n",
    "\n",
    "`2`\n",
    "\n",
    "`3`\n",
    "\n",
    "`5`\n",
    "\n",
    "`8`\n",
    "\n",
    "`13`\n",
    "\n",
    "`21`"
   ]
  },
  {
   "cell_type": "code",
   "execution_count": 1,
   "metadata": {},
   "outputs": [],
   "source": [
    "# Просто выполните данную ячейку. n и k уже заданы,\n",
    "# используйте их при постоении вашего алгоритма\n",
    "n = 8\n",
    "k = 30"
   ]
  },
  {
   "cell_type": "markdown",
   "metadata": {},
   "source": [
    "#### Решение"
   ]
  },
  {
   "cell_type": "code",
   "execution_count": 2,
   "metadata": {},
   "outputs": [
    {
     "name": "stdout",
     "output_type": "stream",
     "text": [
      "21\n",
      "34\n",
      "55\n",
      "89\n",
      "144\n",
      "233\n",
      "377\n",
      "610\n",
      "987\n",
      "1597\n",
      "2584\n",
      "4181\n",
      "6765\n",
      "10946\n",
      "17711\n",
      "28657\n",
      "46368\n",
      "75025\n",
      "121393\n",
      "196418\n",
      "317811\n",
      "514229\n",
      "832040\n"
     ]
    }
   ],
   "source": [
    "# вставить код сюда 1\n",
    "f_prev_prev = 0\n",
    "f_prev = 1\n",
    "f_current, index = 0, 0\n",
    "while(index != n):\n",
    "    f_prev, f_prev_prev = f_current, f_prev\n",
    "    f_current = f_prev + f_prev_prev\n",
    "    index+=1\n",
    "while(index != k+1):\n",
    "    print(f_current)\n",
    "    f_prev, f_prev_prev = f_current, f_prev\n",
    "    f_current = f_prev + f_prev_prev\n",
    "    index +=1\n"
   ]
  },
  {
   "cell_type": "markdown",
   "metadata": {},
   "source": [
    "### Задача № 2\n",
    "\n",
    "Скопируйте и модифицируйте код из первой задачи таким образом, чтобы четные (по значению) элементы при выводе были заменены на отрицательное значение квадрата их индекса.\n",
    "\n",
    "Аналогично первой задаче, каждый элемент должен быть выведен в отдельной строке.\n",
    "\n",
    "Пример вывода для `n = 2` и `k = 8`:\n",
    "\n",
    "`1`\n",
    "\n",
    "`-9`\n",
    "\n",
    "`3`\n",
    "\n",
    "`5`\n",
    "\n",
    "`-36`\n",
    "\n",
    "`13`\n",
    "\n",
    "`21`"
   ]
  },
  {
   "cell_type": "markdown",
   "metadata": {},
   "source": [
    "#### Решение"
   ]
  },
  {
   "cell_type": "code",
   "execution_count": 3,
   "metadata": {},
   "outputs": [
    {
     "name": "stdout",
     "output_type": "stream",
     "text": [
      "21\n",
      "-81\n",
      "55\n",
      "89\n",
      "-144\n",
      "233\n",
      "377\n",
      "-225\n",
      "987\n",
      "1597\n",
      "-324\n",
      "4181\n",
      "6765\n",
      "-441\n",
      "17711\n",
      "28657\n",
      "-576\n",
      "75025\n",
      "121393\n",
      "-729\n",
      "317811\n",
      "514229\n",
      "-900\n"
     ]
    }
   ],
   "source": [
    "# вставить код сюда 2\n",
    "f_prev_prev = 0\n",
    "f_prev = 1\n",
    "f_current, index = 0, 0\n",
    "while(index != n):\n",
    "    f_prev, f_prev_prev = f_current, f_prev\n",
    "    f_current = f_prev + f_prev_prev\n",
    "    index+=1\n",
    "while(index != k+1):\n",
    "    if not((f_current%2)):\n",
    "            print(index**2 * -1)\n",
    "    else: print(f_current)\n",
    "    f_prev, f_prev_prev = f_current, f_prev\n",
    "    f_current = f_prev + f_prev_prev\n",
    "    index +=1\n"
   ]
  },
  {
   "cell_type": "markdown",
   "metadata": {},
   "source": [
    "### Задача № 3\n",
    "\n",
    "Посчитайте сумму элементов полученной на предыдущем шаге последовательности (и снова копипаст алгоритма вам в помощь), найдите значение и индекс максимального и минимального элементов.\n",
    "\n",
    "Пример вывода для `n = 2` и `k = 8`:\n",
    "\n",
    "`Sum: -2`\n",
    "\n",
    "`Max: 21, Index: 8`\n",
    "\n",
    "`Min: -36, Index: 6`"
   ]
  },
  {
   "cell_type": "markdown",
   "metadata": {},
   "source": [
    "#### Решение"
   ]
  },
  {
   "cell_type": "code",
   "execution_count": 8,
   "metadata": {},
   "outputs": [
    {
     "name": "stdout",
     "output_type": "stream",
     "text": [
      "Sum:  1085711 \n",
      "Max:  514229 , Index:  29 \n",
      "Min:  -900 , Index:  30\n"
     ]
    }
   ],
   "source": [
    "# вставить код сюда 3\n",
    "f_prev_prev = 0\n",
    "f_prev = 1\n",
    "f_current, index = 0, 0\n",
    "sum_f = 0\n",
    "f_max, f_min = 0, 0\n",
    "index_max, index_min = 0, 0\n",
    "while(index != n):\n",
    "    f_prev, f_prev_prev = f_current, f_prev\n",
    "    f_current = f_prev + f_prev_prev\n",
    "    index+=1\n",
    "while(index != k+1-3):\n",
    "    if not((f_current%2)):\n",
    "        sum_f += (index**2 * -1)\n",
    "    else:\n",
    "        sum_f += (f_current)\n",
    "    f_prev, f_prev_prev = f_current, f_prev\n",
    "    f_current = f_prev + f_prev_prev\n",
    "    index +=1\n",
    "while(index != k+1):\n",
    "    if not((f_current%2)):\n",
    "        f_pow = index**2 * -1\n",
    "        if(f_pow > f_max): f_max, index_max = f_pow, index\n",
    "        elif(f_pow < f_max): f_min, index_min = f_pow, index\n",
    "        sum_f += (f_pow)\n",
    "    else:\n",
    "        if(f_current > f_max): f_max, index_max = f_current, index\n",
    "        elif(f_current < f_max): f_min, index_min = f_current, index\n",
    "        sum_f += (f_current)\n",
    "    f_prev, f_prev_prev = f_current, f_prev\n",
    "    f_current = f_prev + f_prev_prev\n",
    "    index +=1\n",
    "    \n",
    "print(\"Sum: \", sum_f,'\\n'\"Max: \", f_max, \", Index: \", index_max,'\\n'\"Min: \", f_min,\", Index: \", index_min)\n"
   ]
  },
  {
   "cell_type": "markdown",
   "metadata": {},
   "source": [
    "### Задача № 4\n",
    "\n",
    "Скопируйте и модифицируйте код из первой задачи. Выведите только те элементы последовательности, у которых сумма цифр делится на 3 без остатка.\n",
    "\n",
    "Аналогично первой задаче, каждый элемент должен быть выведен в отдельной строке.\n",
    "\n",
    "Пример вывода для `n = 2` и `k = 8`:\n",
    "\n",
    "`3`\n",
    "\n",
    "`21`"
   ]
  },
  {
   "cell_type": "markdown",
   "metadata": {},
   "source": [
    "#### Решение"
   ]
  },
  {
   "cell_type": "code",
   "execution_count": 5,
   "metadata": {},
   "outputs": [
    {
     "name": "stdout",
     "output_type": "stream",
     "text": [
      "21\n",
      "144\n",
      "987\n",
      "6765\n",
      "46368\n",
      "317811\n"
     ]
    }
   ],
   "source": [
    "# вставить код сюда 4\n",
    "f_prev_prev = 0\n",
    "f_prev = 1\n",
    "f_current, index = 0, 0\n",
    "while(index != n):\n",
    "    f_prev, f_prev_prev = f_current, f_prev\n",
    "    f_current = f_prev + f_prev_prev\n",
    "    index+=1\n",
    "while(index != k+1):\n",
    "    if not (f_current%3):\n",
    "        print(f_current)\n",
    "    f_prev, f_prev_prev = f_current, f_prev\n",
    "    f_current = f_prev + f_prev_prev\n",
    "    index +=1 "
   ]
  }
 ],
 "metadata": {
  "kernelspec": {
   "display_name": "Python 3",
   "language": "python",
   "name": "python3"
  },
  "language_info": {
   "codemirror_mode": {
    "name": "ipython",
    "version": 3
   },
   "file_extension": ".py",
   "mimetype": "text/x-python",
   "name": "python",
   "nbconvert_exporter": "python",
   "pygments_lexer": "ipython3",
   "version": "3.11.5"
  }
 },
 "nbformat": 4,
 "nbformat_minor": 4
}
