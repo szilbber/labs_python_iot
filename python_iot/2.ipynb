{
 "cells": [
  {
   "cell_type": "code",
   "execution_count": 1,
   "metadata": {},
   "outputs": [
    {
     "name": "stdout",
     "output_type": "stream",
     "text": [
      "[3, 15, 12, 9, 6, 18, 21, 24, 27, 30]\n"
     ]
    }
   ],
   "source": [
    "#1\n",
    "l = [3,6,9,12,15,18,21,24,27,30]\n",
    "n = 1 \n",
    "k = 4\n",
    "l[n: k+1] = l[n:k+1][::-1]\n",
    "print(l)"
   ]
  },
  {
   "cell_type": "code",
   "execution_count": 2,
   "metadata": {},
   "outputs": [
    {
     "name": "stdout",
     "output_type": "stream",
     "text": [
      "['aAbba']\n"
     ]
    }
   ],
   "source": [
    "#2\n",
    "l = ['aab', 'aAbba', \"aabac\", 'aab']\n",
    "x = 'aa'\n",
    "l = [val for val in l if not val.startswith(x)]\n",
    "print(l)"
   ]
  },
  {
   "cell_type": "code",
   "execution_count": 3,
   "metadata": {},
   "outputs": [
    {
     "name": "stdout",
     "output_type": "stream",
     "text": [
      "-0.5346000000000011\n",
      "-0.5346000000000011\n",
      "-0.5346000000000011\n"
     ]
    }
   ],
   "source": [
    "#3\n",
    "c = [2,3,2,-6]\n",
    "p = [1,2,2,4]\n",
    "x= 1.1\n",
    "result = 0\n",
    "#цикл\n",
    "for i in range(4):\n",
    "    result += c[i]*(x**p[i])\n",
    "    \n",
    "print(result)\n",
    "#зип\n",
    "res1=0\n",
    "for i,j in zip(c,p):\n",
    "    res1 += i*(x**j)\n",
    "print(res1)\n",
    "#map\n",
    "res2 = 0\n",
    "x = 1.1\n",
    "res2 = sum(map(lambda ci, pi: ci*(x**pi), c, p))\n",
    "print(res2)"
   ]
  },
  {
   "cell_type": "code",
   "execution_count": 35,
   "metadata": {},
   "outputs": [
    {
     "name": "stdout",
     "output_type": "stream",
     "text": [
      "['вода', 'земля', 'огонь', 'воздух', 'самоедлинное']\n",
      "['водаqqqqqqqq', 'земляqqqqqqq', 'огоньqqqqqqq', 'воздухqqqqqq', 'самоедлинное']\n"
     ]
    }
   ],
   "source": [
    "#4\n",
    "l = [\"воздух\", \"вода\", \"земля\", \"самоедлинное\", \"огонь\"]\n",
    "#сортировка по длине\n",
    "l.sort(key=len)\n",
    "print(l)\n",
    "#дополняет все слова до самого длинного\n",
    "val = 'q'\n",
    "l =[x.ljust(len(l[-1]), val) for x in l]\n",
    "print(l)"
   ]
  },
  {
   "cell_type": "code",
   "execution_count": 49,
   "metadata": {},
   "outputs": [
    {
     "name": "stdout",
     "output_type": "stream",
     "text": [
      "34\n",
      "34\n"
     ]
    }
   ],
   "source": [
    "#5\n",
    "#сумма элементов главной и побочной диагонали\n",
    "matr = [[1,2,3,4],\n",
    "        [5,6,7,8],\n",
    "        [9,10,11,12],\n",
    "        [13,14,15,16]]\n",
    "sum_main = 0\n",
    "sum_dop = 0\n",
    "for i in range(len(matr)):\n",
    "    sum_main += matr[i][i]\n",
    "    sum_dop += matr[-i-1][-i-1]\n",
    "print(sum_main)\n",
    "print(sum_dop)\n"
   ]
  },
  {
   "cell_type": "code",
   "execution_count": 71,
   "metadata": {},
   "outputs": [
    {
     "name": "stdout",
     "output_type": "stream",
     "text": [
      "66\n",
      "66\n"
     ]
    }
   ],
   "source": [
    "#6\n",
    "matr = [[1,2,3,4],\n",
    "        [5,6,7,8],\n",
    "        [9,10,11,12],\n",
    "        [13,14,15,16]]\n",
    "suma = 0\n",
    "for i in range(4):\n",
    "    suma += sum(matr[i][0:i])\n",
    "print(suma)\n",
    "s = 0\n",
    "for i, row in enumerate(matr):\n",
    "    s+=sum(row[:i])\n",
    "print(s)\n"
   ]
  },
  {
   "cell_type": "code",
   "execution_count": 123,
   "metadata": {},
   "outputs": [
    {
     "name": "stdout",
     "output_type": "stream",
     "text": [
      "79\n"
     ]
    }
   ],
   "source": [
    "#7 \n",
    "matr = [[1,2,3,4],\n",
    "        [5,6,7,8],\n",
    "        [9,10,11,12],\n",
    "        [13,14,15,16]]\n",
    "s = 0\n",
    "#\n",
    "size=len(matr)\n",
    "for i in range(size//2,size):\n",
    "    s+=sum(matr[i][-i-1:i+1])\n",
    "print(s)"
   ]
  }
 ],
 "metadata": {
  "kernelspec": {
   "display_name": "Python 3",
   "language": "python",
   "name": "python3"
  },
  "language_info": {
   "codemirror_mode": {
    "name": "ipython",
    "version": 3
   },
   "file_extension": ".py",
   "mimetype": "text/x-python",
   "name": "python",
   "nbconvert_exporter": "python",
   "pygments_lexer": "ipython3",
   "version": "3.11.5"
  }
 },
 "nbformat": 4,
 "nbformat_minor": 2
}
